{
 "cells": [
  {
   "cell_type": "markdown",
   "metadata": {
    "slideshow": {
     "slide_type": "slide"
    },
    "tags": []
   },
   "source": [
    "# Part II - Ford GoBike System Data (Exploratory Data Analysis)\n",
    "## by Ruben Dekker"
   ]
  },
  {
   "cell_type": "markdown",
   "metadata": {
    "slideshow": {
     "slide_type": "slide"
    }
   },
   "source": [
    "## Investigation Overview\n",
    "\n",
    "My analysis of the GoBike usage data revealed a strong correlation between age and usage, with young professionals being the primary target audience. Furthermore, I observed that the day of the week and hour of the day variables had a significant impact on usage patterns. Additionally, I found that while there is a high degree of similarity between the start and end stations, there is not a perfect correlation between the two. The variance in trip duration was also found to be high, although the interquartile range was relatively small. Based on these findings, I recommend that Ford, as the operator of the GoBike service, consider partnering with businesses and offering a package tailored towards young professionals in order to expand their GoBike business. The above findings are based on the data available and further research may be needed to validate my findings.\n",
    "\n",
    "## Dataset Overview\n",
    "\n",
    "The selected dataset (Ford GoBike System dataset from 2019) contains 183,412 observations and 16 columns that concerns information on bike rentals from the Ford GoBike bike sharing system. The dataset includes information such as the start and end station, start and end time, duration of the ride, and user information (e.g., whether the user is a subscriber or a customer, and their birth year). It also contains geospatial information such as the latitude and longitude of the start and end station. This dataset covers GoBike usage over de course of February 2019 in the Greater San Francisco Bay Area. The dataset was used to analyze bike rental patterns and user behavior, as well as write an advice towards bike sharing companies to improve the bike sharing system and maximize profit."
   ]
  },
  {
   "cell_type": "code",
   "execution_count": null,
   "metadata": {
    "slideshow": {
     "slide_type": "skip"
    }
   },
   "outputs": [],
   "source": [
    "# import all packages and set plots to be embedded inline\n",
    "import numpy as np\n",
    "import pandas as pd\n",
    "import matplotlib.pyplot as plt\n",
    "import seaborn as sns\n",
    "\n",
    "%matplotlib inline\n",
    "\n",
    "# suppress warnings from final output\n",
    "import warnings\n",
    "warnings.simplefilter(\"ignore\")"
   ]
  },
  {
   "cell_type": "code",
   "execution_count": null,
   "metadata": {
    "slideshow": {
     "slide_type": "skip"
    }
   },
   "outputs": [],
   "source": [
    "# load in the dataset into a pandas dataframe\n",
    "df_bike = pd.read_csv(\"Ford GoBike data.csv\")"
   ]
  },
  {
   "cell_type": "code",
   "execution_count": null,
   "metadata": {
    "slideshow": {
     "slide_type": "skip"
    }
   },
   "outputs": [],
   "source": [
    "df_bike.head(3)"
   ]
  },
  {
   "cell_type": "markdown",
   "metadata": {
    "slideshow": {
     "slide_type": "notes"
    }
   },
   "source": [
    "> Note that the above cells have been set as \"Skip\"-type slides. That means\n",
    "that when the notebook is rendered as http slides, those cells won't show up."
   ]
  },
  {
   "cell_type": "markdown",
   "metadata": {
    "slideshow": {
     "slide_type": "slide"
    }
   },
   "source": [
    "## Visualization 1\n",
    "\n",
    "* <b>Question</b>: How are trips distributed between days of the week?\n",
    "* <b>Visualization</b>: Seaborn countplot\n",
    "* <b>Observations</b>: There is slight variance between the different weekdays and a significant difference between weekend and weekdays."
   ]
  },
  {
   "cell_type": "code",
   "execution_count": null,
   "metadata": {
    "slideshow": {
     "slide_type": "subslide"
    }
   },
   "outputs": [],
   "source": [
    "# Convert start_time and end_time columns from object to datetime64[ns]\n",
    "df_bike[['start_time','end_time']] = df_bike[['start_time','end_time']].apply(pd.to_datetime)\n",
    "\n",
    "# Create additional variable called 'day_of_week' by extracting this information from the start_time column (will raise error if ran more than once)\n",
    "def filter_day_of_week(df_bike):\n",
    "    df_bike['day_of_week'] = df_bike['start_time'].dt.weekday\n",
    "    return df_bike\n",
    "\n",
    "df_bike = filter_day_of_week(df_bike)\n",
    "\n",
    "sns.set_style('whitegrid')\n",
    "ax = sns.countplot(y='day_of_week', data=df_bike, palette='twilight', lw=1, ec='black')\n",
    "ax.set_yticklabels(['Monday', 'Tuesday', 'Wednesday','Thursday', 'Friday', 'Saturday', 'Sunday'])\n",
    "plt.xlabel(\"Number of trips taken\")\n",
    "plt.ylabel(\"Day of the Week\")\n",
    "plt.title(\"Trip count distribution by day\")\n",
    "plt.show()"
   ]
  },
  {
   "cell_type": "markdown",
   "metadata": {
    "slideshow": {
     "slide_type": "slide"
    }
   },
   "source": [
    "## Visualization 2\n",
    "\n",
    "* <b>Question</b>: How are trips distributed between hours of the day?\n",
    "* <b>Visualization</b>: Seaborn countplot\n",
    "* <b>Observations</b>: There are major peaks at 8:00 and 17:00, conventional office hours."
   ]
  },
  {
   "cell_type": "code",
   "execution_count": null,
   "metadata": {
    "slideshow": {
     "slide_type": "subslide"
    }
   },
   "outputs": [],
   "source": [
    "# Create additional variable called 'hour_of_day' by extracting this information from the start_time column (will raise error if ran more than once)\n",
    "def filter_hour_of_day(df_bike):\n",
    "    df_bike['hour_of_day'] = df_bike['start_time'].dt.hour\n",
    "    return df_bike\n",
    "\n",
    "df_bike = filter_hour_of_day(df_bike)\n",
    "\n",
    "sns.set_style('whitegrid')\n",
    "ax = sns.countplot(x='hour_of_day', data=df_bike, palette='Pastel1', lw=1, ec='black')\n",
    "plt.xlabel(\"Hour of the day at which trip was started\")\n",
    "plt.ylabel(\"Number of trips taken\")\n",
    "plt.title(\"Trip count distribution by hour\")\n",
    "plt.show()"
   ]
  },
  {
   "cell_type": "markdown",
   "metadata": {
    "slideshow": {
     "slide_type": "slide"
    },
    "tags": []
   },
   "source": [
    "## Visualization 3\n",
    "* <b>Question</b>: Is there a correlation between birth year and trip duration?\n",
    "* <b>Visualization</b>: Seaborn heatmap\n",
    "* <b>Observations</b>: GoBike usage among the youngest and oldest generation is neglible compared to Millenials."
   ]
  },
  {
   "cell_type": "code",
   "execution_count": null,
   "metadata": {
    "slideshow": {
     "slide_type": "subslide"
    }
   },
   "outputs": [],
   "source": [
    "# create bins for member_birth_year\n",
    "df_bike['birth_year_bin'] = pd.cut(df_bike['member_birth_year'], bins=[1900, 1920, 1940, 1960, 1980, 2000, 2020], labels=['1900-1920', '1920-1940', '1940-1960', '1960-1980', '1980-2000','2000-2020'])\n",
    "\n",
    "# create a pivot table to organize the data for the heatmap\n",
    "pivot_table = df_bike.pivot_table(values=df_bike.columns[0], index='day_of_week', columns='birth_year_bin', aggfunc='size')\n",
    "\n",
    "# create the heatmap\n",
    "ax = sns.heatmap(pivot_table, cmap='YlGnBu', annot=True)\n",
    "ax.set_yticklabels(['Monday', 'Tuesday', 'Wednesday','Thursday', 'Friday', 'Saturday', 'Sunday'], rotation=0)\n",
    "plt.title(\"Heatmap of GoBike usage per day by age\")\n",
    "plt.xlabel(\"Generation\")\n",
    "plt.ylabel(\"Day of week\")\n",
    "plt.show()"
   ]
  },
  {
   "cell_type": "markdown",
   "metadata": {
    "slideshow": {
     "slide_type": "slide"
    }
   },
   "source": [
    "## Visualization 4\n",
    "* <b>Question</b>: What is the IQR range of trip duration per day of the week?\n",
    "* <b>Visualization</b>: Seaborn boxplot\n",
    "* <b>Observations</b>: In despite of variance in preceding scatterplot, the IQR for trip duration is nearly identical when plotted against days of the week."
   ]
  },
  {
   "cell_type": "code",
   "execution_count": null,
   "metadata": {
    "slideshow": {
     "slide_type": "subslide"
    }
   },
   "outputs": [],
   "source": [
    "# filter data\n",
    "df_bike_duration_limited = df_bike[df_bike[\"duration_sec\"] < 2000]\n",
    "\n",
    "ax = sns.boxplot(x='day_of_week', y='duration_sec', data=df_bike_duration_limited, color='lightgrey')\n",
    "ax.set_xticklabels(['Monday', 'Tuesday', 'Wednesday','Thursday', 'Friday', 'Saturday', 'Sunday'])\n",
    "plt.title(\"Box plot of the duration of a trip per day of the week\")\n",
    "plt.xlabel(\"Day of the week\")\n",
    "plt.ylabel(\"Duration of trips (sec)\")\n",
    "plt.show()"
   ]
  },
  {
   "cell_type": "markdown",
   "metadata": {
    "slideshow": {
     "slide_type": "slide"
    }
   },
   "source": [
    "## Visualization 5\n",
    "* <b>Question</b>: When do different generations use GoBike?\n",
    "* <b>Visualization</b>: Seaborn boxplot\n",
    "* <b>Observations</b>: The oldest generation peaks on Monday and Tuesday. Those of working age are consistent between different weekdays and the weekend, but the difference between those is significant. Usage by the youngest generation peaks Tuesday afternoon/evening. The median is on average around 13:00, which makes sense considering that the peaks occurred at 8:00 and 17:00.\n",
    "* <b>Nb.</b> Birth year bin 1900-1920 (see Tuesday) represents 3 observations for which the birth year was exactly 1920."
   ]
  },
  {
   "cell_type": "code",
   "execution_count": null,
   "metadata": {
    "slideshow": {
     "slide_type": "subslide"
    }
   },
   "outputs": [],
   "source": [
    "sns.set_palette(sns.color_palette(\"viridis_r\", n_colors=8))\n",
    "plt.figure(figsize=(12,8))\n",
    "ax = sns.boxplot(data=df_bike, x='day_of_week', y='hour_of_day', hue='birth_year_bin')\n",
    "ax.set_xticklabels(['Monday', 'Tuesday', 'Wednesday','Thursday', 'Friday', 'Saturday', 'Sunday'], rotation=0)\n",
    "plt.xlabel(\"Day of the week\")\n",
    "plt.ylabel(\"Hour of the day\")\n",
    "plt.title(\"GoBike usage per hour of the day by age group (binned per 20 years)\")\n",
    "plt.yticks(np.arange(0, 25, 1))\n",
    "plt.show()"
   ]
  },
  {
   "cell_type": "markdown",
   "metadata": {
    "slideshow": {
     "slide_type": "skip"
    }
   },
   "source": [
    "### Generate Slideshow\n",
    "Once you're ready to generate your slideshow, use the `jupyter nbconvert` command to generate the HTML slide show.  "
   ]
  },
  {
   "cell_type": "code",
   "execution_count": null,
   "metadata": {
    "slideshow": {
     "slide_type": "skip"
    }
   },
   "outputs": [],
   "source": [
    "# Use this command if you are running this file in local\n",
    "!jupyter nbconvert Part_II_slide_deck.ipynb --to slides --post serve --no-input --no-prompt"
   ]
  },
  {
   "cell_type": "markdown",
   "metadata": {
    "slideshow": {
     "slide_type": "skip"
    }
   },
   "source": [
    "> In the classroom workspace, the generated HTML slideshow will be placed in the home folder. \n",
    "\n",
    "> In local machines, the command above should open a tab in your web browser where you can scroll through your presentation. Sub-slides can be accessed by pressing 'down' when viewing its parent slide. Make sure you remove all of the quote-formatted guide notes like this one before you finish your presentation! At last, you can stop the Kernel. "
   ]
  },
  {
   "cell_type": "markdown",
   "metadata": {},
   "source": [
    "### Submission\n",
    "If you are using classroom workspace, you can choose from the following two ways of submission:\n",
    "\n",
    "1. **Submit from the workspace**. Make sure you have removed the example project from the /home/workspace directory. You must submit the following files:\n",
    "   - Part_I_notebook.ipynb\n",
    "   - Part_I_notebook.html or pdf\n",
    "   - Part_II_notebook.ipynb\n",
    "   - Part_I_slides.html\n",
    "   - README.md\n",
    "   - dataset (optional)\n",
    "\n",
    "\n",
    "2. **Submit a zip file on the last page of this project lesson**. In this case, open the Jupyter terminal and run the command below to generate a ZIP file. \n",
    "```bash\n",
    "zip -r my_project.zip .\n",
    "```\n",
    "The command abobve will ZIP every file present in your /home/workspace directory. Next, you can download the zip to your local, and follow the instructions on the last page of this project lesson.\n"
   ]
  }
 ],
 "metadata": {
  "celltoolbar": "Slideshow",
  "kernelspec": {
   "display_name": "Python 3 (ipykernel)",
   "language": "python",
   "name": "python3"
  },
  "language_info": {
   "codemirror_mode": {
    "name": "ipython",
    "version": 3
   },
   "file_extension": ".py",
   "mimetype": "text/x-python",
   "name": "python",
   "nbconvert_exporter": "python",
   "pygments_lexer": "ipython3",
   "version": "3.9.12"
  }
 },
 "nbformat": 4,
 "nbformat_minor": 4
}
