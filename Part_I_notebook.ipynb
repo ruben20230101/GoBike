{
 "cells": [
  {
   "cell_type": "markdown",
   "metadata": {
    "tags": [],
    "toc-hr-collapsed": true
   },
   "source": [
    "# Part I - Ford GoBike System Data (Exploratory Data Analysis)\n",
    "## by Ruben Dekker\n",
    "## Introduction\n",
    "The selected dataset (Ford GoBike System dataset from 2019) is a dataset that contains information on bike rentals from the Ford GoBike bike sharing system. The dataset includes information such as the start and end station, start and end time, duration of the ride, and user information (e.g., whether the user is a subscriber or a customer, and their birth year). It also contains geospatial information such as the latitude and longitude of the start and end station. It likely covers multiple months, the duration is likely covering a full year or a portion of it in 2019. The dataset may be used to analyze bike rental patterns and user behavior, as well as help city planners and bike sharing companies improve the bike sharing system.\n"
   ]
  },
  {
   "cell_type": "markdown",
   "metadata": {
    "tags": []
   },
   "source": [
    "# Structure and focus of analysis"
   ]
  },
  {
   "cell_type": "markdown",
   "metadata": {
    "tags": []
   },
   "source": [
    "### What is the structure of your dataset?\n",
    "\n",
    "> As can be observed from the output in the *Assessment* chapter:\n",
    "> * This dataset contains 183,412 rows and 16 columns.\n",
    "> * All variable names are clear and formatting is consistent.\n",
    "> * Longitude and latitude have 6 digits after the decimal point, which are necessary for accuracy.\n",
    "> * The start_time and end_time columns are formatted at *object*, will be converted to datetime[ns] so analyses can be performed on it.\n",
    "\n",
    "### What is/are the main feature(s) of interest in your dataset?\n",
    "\n",
    "> * Distribution between days of the week/hour of the day, duration, and various demographic factors.\n",
    "> * Correlation between most frequent start and end station.\n",
    "> * Customer:Subscriber ratio in various scenarios.\n",
    "\n",
    "### What features in the dataset do you think will help support your investigation into your feature(s) of interest?\n",
    "\n",
    "> The (converted) datetime columns will be the main focus of this analysis. Only *start_time* is used in this analysis, but the code can easily be converted by replacing *start* with *end* in the code."
   ]
  },
  {
   "cell_type": "markdown",
   "metadata": {
    "tags": []
   },
   "source": [
    "# Preliminary Wrangling"
   ]
  },
  {
   "cell_type": "code",
   "execution_count": null,
   "metadata": {},
   "outputs": [],
   "source": [
    "# import all packages and set plots to be embedded inline\n",
    "import numpy as np\n",
    "import pandas as pd\n",
    "import matplotlib.pyplot as plt\n",
    "import seaborn as sns\n",
    "import datetime\n",
    "\n",
    "%matplotlib inline\n",
    "\n",
    "pd.set_option('display.max_columns', 500)\n",
    "pd.set_option('max_colwidth', 800)"
   ]
  },
  {
   "cell_type": "code",
   "execution_count": null,
   "metadata": {},
   "outputs": [],
   "source": [
    "df = pd.read_csv(\"Ford GoBike data.csv\")\n",
    "print(\"Dataframe succesfully created\")"
   ]
  },
  {
   "cell_type": "code",
   "execution_count": null,
   "metadata": {},
   "outputs": [],
   "source": [
    "# A copy of the dataset to perform tests on that can be reiterated an infinite amount of times\n",
    "df_bike = df.copy()"
   ]
  },
  {
   "cell_type": "markdown",
   "metadata": {
    "tags": []
   },
   "source": [
    "# Assessment"
   ]
  },
  {
   "cell_type": "code",
   "execution_count": null,
   "metadata": {},
   "outputs": [],
   "source": [
    "# The number of observations and variables\n",
    "df_bike.shape"
   ]
  },
  {
   "cell_type": "code",
   "execution_count": null,
   "metadata": {},
   "outputs": [],
   "source": [
    "# The number of duplicated rows\n",
    "df_bike.duplicated().sum()"
   ]
  },
  {
   "cell_type": "code",
   "execution_count": null,
   "metadata": {},
   "outputs": [],
   "source": [
    "# Names of columns\n",
    "df_bike.columns"
   ]
  },
  {
   "cell_type": "code",
   "execution_count": null,
   "metadata": {},
   "outputs": [],
   "source": [
    "# Datatype of variables and non-null count\n",
    "df_bike.info()"
   ]
  },
  {
   "cell_type": "code",
   "execution_count": null,
   "metadata": {
    "scrolled": true
   },
   "outputs": [],
   "source": [
    "# First 10 observations in dataset by index\n",
    "df_bike.head()"
   ]
  },
  {
   "cell_type": "code",
   "execution_count": null,
   "metadata": {},
   "outputs": [],
   "source": [
    "# Final 10 observations in dataset by index\n",
    "df_bike.tail()"
   ]
  },
  {
   "cell_type": "code",
   "execution_count": null,
   "metadata": {},
   "outputs": [],
   "source": [
    "# Random sample from dataset\n",
    "df_bike.sample()"
   ]
  },
  {
   "cell_type": "code",
   "execution_count": null,
   "metadata": {},
   "outputs": [],
   "source": [
    "# Amount of null values per variable\n",
    "df_bike.isnull().sum().sort_values(ascending=False)"
   ]
  },
  {
   "cell_type": "code",
   "execution_count": null,
   "metadata": {},
   "outputs": [],
   "source": [
    "# Descriptive statistics\n",
    "df_bike.describe()"
   ]
  },
  {
   "cell_type": "code",
   "execution_count": null,
   "metadata": {},
   "outputs": [],
   "source": [
    "# Visualization of the birth year distribution\n",
    "sns.boxplot(df_bike['member_birth_year']);"
   ]
  },
  {
   "cell_type": "code",
   "execution_count": null,
   "metadata": {},
   "outputs": [],
   "source": [
    "# Percentage of people born before 1920\n",
    "mask = df_bike['member_birth_year'] < 1920\n",
    "pre_count = len(df_bike[mask])\n",
    "pre_proportion = (pre_count / len(df_bike)) * 100\n",
    "print(\"The percentage of people born before 1920 is {:.2f}%\".format(pre_proportion))"
   ]
  },
  {
   "cell_type": "markdown",
   "metadata": {
    "tags": []
   },
   "source": [
    "# Cleaning"
   ]
  },
  {
   "cell_type": "markdown",
   "metadata": {
    "tags": []
   },
   "source": [
    "## 2.1 Define"
   ]
  },
  {
   "cell_type": "markdown",
   "metadata": {
    "tags": []
   },
   "source": [
    "### 2.1.1 Tidiness issues\n",
    "* None found (given that the extraction from the start_time column for the sake of analysis is not considered a quality issue)."
   ]
  },
  {
   "cell_type": "markdown",
   "metadata": {
    "tags": []
   },
   "source": [
    "### 2.1.2 Quality issues\n",
    "* *start_time* and *end_time* are formatted as object, convert to DateTime."
   ]
  },
  {
   "cell_type": "markdown",
   "metadata": {
    "tags": []
   },
   "source": [
    "## 2.3 Code"
   ]
  },
  {
   "cell_type": "code",
   "execution_count": null,
   "metadata": {},
   "outputs": [],
   "source": [
    "# Convert start_time and end_time columns from object to datetime64[ns]\n",
    "df_bike[['start_time','end_time']] = df_bike[['start_time','end_time']].apply(pd.to_datetime)\n",
    "print(\"Conversion succesful\")"
   ]
  },
  {
   "cell_type": "markdown",
   "metadata": {
    "tags": []
   },
   "source": [
    "## 2.2 Test"
   ]
  },
  {
   "cell_type": "code",
   "execution_count": null,
   "metadata": {},
   "outputs": [],
   "source": [
    "# Check Dtype of start_time and end_time\n",
    "df_bike.info()"
   ]
  },
  {
   "cell_type": "markdown",
   "metadata": {
    "tags": []
   },
   "source": [
    "# Univariate Exploration"
   ]
  },
  {
   "cell_type": "markdown",
   "metadata": {
    "tags": []
   },
   "source": [
    "## Visualization 1\n",
    "* <b>Question</b>: How are trips distributed between days of the week?\n",
    "* <b>Visualization</b>: Seaborn countplot\n",
    "* <b>Observations</b>: There is slight variance between the different weekdays and a significant difference between weekend and weekdays."
   ]
  },
  {
   "cell_type": "code",
   "execution_count": null,
   "metadata": {},
   "outputs": [],
   "source": [
    "# Create additional variable called 'day_of_week' by extracting this information from the start_time column (will raise error if ran more than once)\n",
    "def filter_day_of_week(df_bike):\n",
    "    df_bike['day_of_week'] = df_bike['start_time'].dt.weekday\n",
    "    return df_bike\n",
    "\n",
    "df_bike = filter_day_of_week(df_bike)\n",
    "\n",
    "print(\"day_of_week variable succesfully created\")"
   ]
  },
  {
   "cell_type": "code",
   "execution_count": null,
   "metadata": {
    "tags": []
   },
   "outputs": [],
   "source": [
    "sns.set_style('whitegrid')\n",
    "ax = sns.countplot(y='day_of_week', data=df_bike, palette='twilight', lw=1, ec='black')\n",
    "ax.set_yticklabels(['Monday', 'Tuesday', 'Wednesday','Thursday', 'Friday', 'Saturday', 'Sunday'])\n",
    "plt.xlabel(\"Number of trips taken\")\n",
    "plt.ylabel(\"Day of the Week\")\n",
    "plt.title(\"Trip count distribution by day\")\n",
    "plt.show()"
   ]
  },
  {
   "cell_type": "markdown",
   "metadata": {
    "tags": []
   },
   "source": [
    "## Visualization 2\n",
    "* <b>Question</b>: How are trips distributed between hours of the day?\n",
    "* <b>Visualization</b>: Seaborn countplot\n",
    "* <b>Observations</b>: There are major peaks at 8:00 and 17:00, conventional office hours."
   ]
  },
  {
   "cell_type": "code",
   "execution_count": null,
   "metadata": {},
   "outputs": [],
   "source": [
    "# Create additional variable called 'hour_of_day' by extracting this information from the start_time column (will raise error if ran more than once)\n",
    "def filter_hour_of_day(df_bike):\n",
    "    df_bike['hour_of_day'] = df_bike['start_time'].dt.hour\n",
    "    return df_bike\n",
    "\n",
    "df_bike = filter_hour_of_day(df_bike)\n",
    "\n",
    "print(\"hour_of_day variable succesfully created\")"
   ]
  },
  {
   "cell_type": "code",
   "execution_count": null,
   "metadata": {},
   "outputs": [],
   "source": [
    "sns.set_style('whitegrid')\n",
    "ax = sns.countplot(x='hour_of_day', data=df_bike, palette='Pastel1', lw=1, ec='black')\n",
    "plt.xlabel(\"Hour of the day at which trip was started\")\n",
    "plt.ylabel(\"Number of trips taken\")\n",
    "plt.title(\"Trip count distribution by hour\")\n",
    "plt.show()"
   ]
  },
  {
   "cell_type": "markdown",
   "metadata": {
    "tags": []
   },
   "source": [
    "## Visualization 3\n",
    "* <b>Question</b>: What is the age distribution of GoBike users?\n",
    "* <b>Visualization</b>: Kernel Density Estimation (KDE) plot\n",
    "* <b>Observations</b>: The target audience is people in their late twenties and early thirties, presumably young professionals."
   ]
  },
  {
   "cell_type": "code",
   "execution_count": null,
   "metadata": {},
   "outputs": [],
   "source": [
    "# Removes all observations where member_birth_year is before 1920 (see output to confirm succesful removal)\n",
    "def drop_over_100(df):\n",
    "    df = df[df_bike['member_birth_year'] >= 1920]\n",
    "    df_bike.dropna(subset=['member_birth_year'], inplace=True)\n",
    "    return df\n",
    "\n",
    "df_bike = drop_over_100(df_bike)\n",
    "\n",
    "df_bike['member_birth_year'].describe()"
   ]
  },
  {
   "cell_type": "code",
   "execution_count": null,
   "metadata": {},
   "outputs": [],
   "source": [
    "sns.kdeplot(data=df_bike['member_birth_year'], fill=True)\n",
    "plt.xlabel('Birth Year')\n",
    "plt.ylabel('Probability')\n",
    "plt.title('Kernel Density Estimation of birth year')\n",
    "plt.xticks(np.arange(min(df_bike['member_birth_year']), max(df_bike['member_birth_year']), 10))\n",
    "plt.show()"
   ]
  },
  {
   "cell_type": "markdown",
   "metadata": {
    "tags": []
   },
   "source": [
    "## Visualization 4\n",
    "* <b>Question</b>: What is the subscriber:customer ratio?\n",
    "* <b>Visualization</b>: MatplotLib pie chart\n",
    "* <b>Observations</b>: The majority of GoBike users are subscribers rather than pay-per-use."
   ]
  },
  {
   "cell_type": "code",
   "execution_count": null,
   "metadata": {},
   "outputs": [],
   "source": [
    "df_bike['user_type'].value_counts().plot.pie(autopct='%.1f%%')\n",
    "plt.title(\"User Type Distribution\")\n",
    "plt.ylabel('')\n",
    "plt.show()"
   ]
  },
  {
   "cell_type": "markdown",
   "metadata": {
    "tags": []
   },
   "source": [
    "## Visualization 5\n",
    "* <b>Question</b>: What is the gender distribution of GoBike users?\n",
    "* <b>Visualization</b>: MatplotLib bar chart\n",
    "* <b>Observations</b>: GoBike users are predominantly male."
   ]
  },
  {
   "cell_type": "code",
   "execution_count": null,
   "metadata": {},
   "outputs": [],
   "source": [
    "df_bike['member_gender'].value_counts().plot.bar()\n",
    "plt.xlabel('')\n",
    "plt.ylabel('Occurences')\n",
    "plt.title('Gender Distribution')\n",
    "plt.show()"
   ]
  },
  {
   "cell_type": "markdown",
   "metadata": {
    "tags": []
   },
   "source": [
    "## Visualization 6\n",
    "* <b>Question</b>: What are the 10 most popular start stations?\n",
    "* <b>Visualization</b>: Seaborn countplot\n",
    "* <b>Observations</b>: Frequency is well-distributed, no outliers."
   ]
  },
  {
   "cell_type": "code",
   "execution_count": null,
   "metadata": {},
   "outputs": [],
   "source": [
    "# Isolate the 10 most popular start stations\n",
    "top_10_start_station_name = df_bike['start_station_name'].value_counts().head(10)\n",
    "\n",
    "sns.countplot(y='start_station_name', data=df_bike, order=top_10_start_station_name.index)\n",
    "plt.xlabel(\"Frequency\")\n",
    "plt.ylabel(\"Start station name\")\n",
    "plt.title(\"Frequency of the 10 most popular start stations\")\n",
    "plt.show()"
   ]
  },
  {
   "cell_type": "markdown",
   "metadata": {
    "tags": []
   },
   "source": [
    "## Visualization 7\n",
    "* <b>Question</b>: What are the 10 most popular end stations?\n",
    "* <b>Visualization</b>: Seaborn countplot\n",
    "* <b>Observations</b>: Frequency is well-distributed, no outliers."
   ]
  },
  {
   "cell_type": "code",
   "execution_count": null,
   "metadata": {},
   "outputs": [],
   "source": [
    "# Isolate 10 most popular end stations\n",
    "top_10_end_station_name = df_bike['end_station_name'].value_counts().head(10)\n",
    "\n",
    "sns.countplot(y='end_station_name', data=df_bike, order=top_10_end_station_name.index)\n",
    "plt.xlabel(\"Frequency\")\n",
    "plt.ylabel(\"End station name\")\n",
    "plt.title(\"Frequency of the 10 most popular end stations\")\n",
    "plt.show()"
   ]
  },
  {
   "cell_type": "markdown",
   "metadata": {
    "jp-MarkdownHeadingCollapsed": true,
    "tags": [],
    "toc-hr-collapsed": true
   },
   "source": [
    "## Review of univariate exploration\n",
    "\n",
    "### Discuss the distribution(s) of your variable(s) of interest. Were there any unusual points? Did you need to perform any transformations?\n",
    "\n",
    "> I looked at my variable of interest from two perspectives: how is usage distributed per day and per hour? First of all, I decided to only use the *start_time* variable to answer this question, because outliers caused by programmatic bugs seemed less likely for checkins than checkouts. Most trips are taking place during the week and the least are taken during the weekend. There is some variety between the days of the week itself, but the seperation between weekdays and weekend is especially salient. This suggests that the target audience might be either students or (young) professionals. After diving deeper into the data by visualizing the distribution per hour, there are clear peaks around 8:00 and 17:00. In other words, people leaving home to go to work and people going home from their work.\n",
    "\n",
    "### Of the features you investigated, were there any unusual distributions? Did you perform any operations on the data to tidy, adjust, or change the form of the data? If so, why did you do this?\n",
    "\n",
    "> The fact that Thursday is more popular than other days of the week is noticable, and would require further research and additional data. Distribution by hour and user type further confirmed the initial hypothesis that young professionals are the target audience of this system. Changing the datatype of the *start_time* and *end_tim*e columns was necessary to extract information from this column. I decided to remove all observations which reported a birth year before 1920: the likeliness of someone over 100 being physically capable of cycling, although not impossible, is low. I researched the necesssity of fractional digits in long- and latitude data, those turned out to be necessary, so I decided to leave those alone. Other than that, there was no data I thought required transformation, at least not for the purpose of this analysis."
   ]
  },
  {
   "cell_type": "markdown",
   "metadata": {
    "tags": []
   },
   "source": [
    "# Bivariate Exploration"
   ]
  },
  {
   "cell_type": "markdown",
   "metadata": {
    "tags": []
   },
   "source": [
    "## Visualization 8\n",
    "* <b>Question</b>: Are there significant correlations in this dataset?\n",
    "* <b>Visualization</b>: Seaborn heatmap\n",
    "* <b>Observations</b>: No significant correlation except for longitude/latitude/id, which all refer to the same concept."
   ]
  },
  {
   "cell_type": "code",
   "execution_count": null,
   "metadata": {},
   "outputs": [],
   "source": [
    "plt.subplots(figsize=(10, 8))\n",
    "sns.heatmap(df_bike.corr(), cmap='coolwarm', annot=True)\n",
    "plt.show()"
   ]
  },
  {
   "cell_type": "markdown",
   "metadata": {
    "tags": []
   },
   "source": [
    "## Visualization 9\n",
    "* <b>Question</b>: Is there a correlation between birth year and trip duration?\n",
    "* <b>Visualization</b>: Seaborn scatterplot\n",
    "* <b>Observations</b>: Younger users ocassionaly travel for longer periods of time, but most trips are consistently short."
   ]
  },
  {
   "cell_type": "code",
   "execution_count": null,
   "metadata": {},
   "outputs": [],
   "source": [
    "# Scatterplot showing the correlation between birth year and length of trip\n",
    "sns.scatterplot(x='member_birth_year', y='duration_sec', data=df_bike, alpha=0.25, s=20)\n",
    "plt.title(\"Scatter plot on the correlation between birth year and duration of trip in seconds\")\n",
    "plt.xlabel(\"Birth year\")\n",
    "plt.ylabel(\"Duration of trip in seconds\")\n",
    "plt.show()"
   ]
  },
  {
   "cell_type": "markdown",
   "metadata": {
    "tags": []
   },
   "source": [
    "## Visualization 10\n",
    "* <b>Question</b>: Is there a correlation between birth year and trip duration?\n",
    "* <b>Visualization</b>: Seaborn heatmap\n",
    "* <b>Observations</b>: GoBike usage among the youngest and oldest generation is neglible compared to Millenials."
   ]
  },
  {
   "cell_type": "code",
   "execution_count": null,
   "metadata": {},
   "outputs": [],
   "source": [
    "# create bins for member_birth_year\n",
    "df_bike['birth_year_bin'] = pd.cut(df_bike['member_birth_year'], bins=[1900, 1920, 1940, 1960, 1980, 2000, 2020], labels=['1900-1920', '1920-1940', '1940-1960', '1960-1980', '1980-2000','2000-2020'])\n",
    "\n",
    "# create a pivot table to organize the data for the heatmap\n",
    "pivot_table = df_bike.pivot_table(values=df_bike.columns[0], index='day_of_week', columns='birth_year_bin', aggfunc='size')\n",
    "\n",
    "# create the heatmap\n",
    "plt.subplots(figsize=(10, 8))\n",
    "ax = sns.heatmap(pivot_table, cmap='YlGnBu', annot=True)\n",
    "ax.set_yticklabels(['Monday', 'Tuesday', 'Wednesday','Thursday', 'Friday', 'Saturday', 'Sunday'], rotation=0)\n",
    "plt.title(\"Heatmap of GoBike usage per day by age\")\n",
    "plt.xlabel(\"Generation\")\n",
    "plt.ylabel(\"Day of week\")\n",
    "plt.show()"
   ]
  },
  {
   "cell_type": "markdown",
   "metadata": {
    "tags": []
   },
   "source": [
    "## Visualization 11\n",
    "* <b>Question</b>: What is the IQR range of trip duration per day of the week?\n",
    "* <b>Visualization</b>: Seaborn boxplot\n",
    "* <b>Observations</b>: In despite of variance in preceding scatterplot, the IQR for trip duration is nearly identical when plotted against days of the week."
   ]
  },
  {
   "cell_type": "code",
   "execution_count": null,
   "metadata": {},
   "outputs": [],
   "source": [
    "# filter data\n",
    "df_bike_duration_limited = df_bike[df_bike[\"duration_sec\"] < 2000]\n",
    "\n",
    "ax = sns.boxplot(x='day_of_week', y='duration_sec', data=df_bike_duration_limited, color='lightgrey')\n",
    "ax.set_xticklabels(['Monday', 'Tuesday', 'Wednesday','Thursday', 'Friday', 'Saturday', 'Sunday'])\n",
    "plt.title(\"Box plot of the duration of a trip per day of the week\")\n",
    "plt.xlabel(\"Day of the week\")\n",
    "plt.ylabel(\"Duration of trips (sec)\")\n",
    "plt.show()"
   ]
  },
  {
   "cell_type": "markdown",
   "metadata": {
    "tags": []
   },
   "source": [
    "## Visualization 12\n",
    "* <b>Question</b>: Is there a correlation between gender and trip duration?\n",
    "* <b>Visualization</b>: Seaborn violin plot\n",
    "* <b>Observations</b>: Women take slightly longer trips, but the difference is minimal."
   ]
  },
  {
   "cell_type": "code",
   "execution_count": null,
   "metadata": {},
   "outputs": [],
   "source": [
    "# Plot 12 filter data\n",
    "df_bike_duration_limited = df_bike[df_bike[\"duration_sec\"] < 2000]\n",
    "\n",
    "sns.set_palette(\"pastel\")\n",
    "sns.violinplot(x='member_gender', y='duration_sec', data=df_bike_duration_limited, color='#20B2AA')\n",
    "plt.title(\"Violin plot of duration_sec vs member_gender\")\n",
    "plt.xlabel(\"Gender\")\n",
    "plt.ylabel(\"Duration (sec)\")\n",
    "plt.show()"
   ]
  },
  {
   "cell_type": "markdown",
   "metadata": {
    "tags": []
   },
   "source": [
    "## Visualization 13\n",
    "* <b>Question</b>: Is there a correlation in the popularity between start and end stations?\n",
    "* <b>Visualization</b>: MatplotLib stacked bar chart\n",
    "* <b>Observations</b>: 9/10 of the most popular start and end stations are shared."
   ]
  },
  {
   "cell_type": "code",
   "execution_count": null,
   "metadata": {},
   "outputs": [],
   "source": [
    "top_10_start_station = df_bike['start_station_name'].value_counts().head(10)\n",
    "top_10_end_station = df_bike['end_station_name'].value_counts().head(10)\n",
    "\n",
    "# Combine the top 10 start and end station into one dataframe\n",
    "top_10_stations = pd.concat([top_10_start_station, top_10_end_station], axis=1)\n",
    "top_10_stations.columns = ['start_station', 'end_station']\n",
    "\n",
    "# Create the stacked bar chart\n",
    "top_10_stations.plot(kind='bar', stacked=True)\n",
    "plt.xlabel(\"Station Name\")\n",
    "plt.ylabel(\"Frequency\")\n",
    "plt.title(\"Frequency of the top 10 start and end stations\")\n",
    "plt.show()"
   ]
  },
  {
   "cell_type": "markdown",
   "metadata": {
    "jp-MarkdownHeadingCollapsed": true,
    "tags": [],
    "toc-hr-collapsed": true
   },
   "source": [
    "## Review of bivariate exploration\n",
    "\n",
    "### Talk about some of the relationships you observed in this part of the investigation. How did the feature(s) of interest vary with other features in the dataset?\n",
    "\n",
    "> As can be derived from the correlation heatmap, there is little correlation between variables except for the obvious longitude/latitude/station_id variables, which is obvious because they refer to the same concept. A heatmap of the correlation between age (bins of 20 years, the generally accepted range of a generation) and day of the week shows exactly how skewed the data is: in the 1980-2000 group there are between 11.000 and 25.000 trips on a specific day, whereas the first (1920-'40) and the last (2000-'20) are barely over 100 and less than 50 over the course of the entire week, respectively.\n",
    "\n",
    "> When generating a scatterplot the duration data seems simultaneously platykurtic and leptokurtic: highly centered around a mean, but with a wide range. To determine the IQR, I visualized a boxplot and emperically determined the range. The first conclusion that can be draw from this boxplot is that approximately 75% of all trips taken during the week take between 300 and 750 seconds: between 5 en 12.5 minutes and that trips on average last 500 seconds, or 8 minutes and 20 seconds. Additionally, the wider IQR for Saturday and Sunday suggests that there are less very long trips (outliers). Finally, the ten most popular start and end stations. By creating a stacked bar chart, I hoped to quickly figure whether there is a correlation between start and end stations: as it turns out, yes, 9/10 of the most popular stations are shared.\n",
    "\n",
    "### Did you observe any interesting relationships between the other features (not the main feature(s) of interest)?\n",
    "\n",
    "> Although there no significant findings besides time-related, it is interesting to see that trips taken by women are on average longer than those taken by men. Additionally, I found it surprisingly that the most popular *start_station* and *end_station* are not perfectly correlated."
   ]
  },
  {
   "cell_type": "markdown",
   "metadata": {
    "tags": []
   },
   "source": [
    "# Multivariate Exploration"
   ]
  },
  {
   "cell_type": "markdown",
   "metadata": {
    "tags": []
   },
   "source": [
    "## Visualization 14\n",
    "* <b>Question</b>: Is there variation in the customer:subscriber ratio in different age groups?\n",
    "* <b>Visualization</b>: Seaborn stripplot\n",
    "* <b>Observations</b>: The oldest generation is predominantly subscribers, the youngest customers."
   ]
  },
  {
   "cell_type": "code",
   "execution_count": null,
   "metadata": {
    "tags": []
   },
   "outputs": [],
   "source": [
    "# Plot 14: The variation in customer:subscriber ratio per age group of 20 years\n",
    "\n",
    "plt.figure(figsize=(10,12))\n",
    "sns.stripplot(x=\"birth_year_bin\", y=\"duration_sec\", hue=\"user_type\", data=df_bike, alpha=0.50, palette='terrain')\n",
    "plt.xlabel(\"Birth year (binned per 20 years)\")\n",
    "plt.ylabel(\"Duration (seconds)\")\n",
    "plt.title(\"Duration of trip per (binned) birth year, split out by user type\")\n",
    "plt.xticks(range(5), [\"1920-1940\", \"1940-1960\", \"1960-1980\", \"1980-2000\",\"2000-2020\"])\n",
    "plt.show()"
   ]
  },
  {
   "cell_type": "markdown",
   "metadata": {
    "tags": []
   },
   "source": [
    "## Visualization 15\n",
    "* <b>Question</b>: When do different generations use GoBike?\n",
    "* <b>Visualization</b>: Seaborn boxplot\n",
    "* <b>Observations</b>: The oldest generation peaks on Monday and Tuesday. Those of working age are consistent between different weekdays and the weekend, but the difference between those is significant. Usage by the youngest generation peaks Tuesday afternoon/evening. The median is on average around 13:00, which makes sense considering that the peaks occurred at 8:00 and 17:00."
   ]
  },
  {
   "cell_type": "code",
   "execution_count": null,
   "metadata": {},
   "outputs": [],
   "source": [
    "# Plot 15: GoBike usage per hour of the day by age group (binned per 20 years)\n",
    "\n",
    "sns.set_palette(sns.color_palette(\"viridis_r\", n_colors=8))\n",
    "plt.figure(figsize=(12,8))\n",
    "ax = sns.boxplot(data=df_bike, x='day_of_week', y='hour_of_day', hue='birth_year_bin')\n",
    "ax.set_xticklabels(['Monday', 'Tuesday', 'Wednesday','Thursday', 'Friday', 'Saturday', 'Sunday'], rotation=0)\n",
    "plt.xlabel(\"Day of the week\")\n",
    "plt.ylabel(\"Hour of the day\")\n",
    "plt.title(\"GoBike usage per hour of the day by age group (binned per 20 years)\")\n",
    "plt.yticks(np.arange(0, 25, 1))\n",
    "plt.show()"
   ]
  },
  {
   "cell_type": "code",
   "execution_count": null,
   "metadata": {},
   "outputs": [],
   "source": [
    "# Explanation of the 1900-1920 bin\n",
    "df_bike.sort_values('member_birth_year').head(3)"
   ]
  },
  {
   "cell_type": "markdown",
   "metadata": {
    "tags": [],
    "toc-hr-collapsed": true
   },
   "source": [
    "## Review of multivariate exploration\n",
    "\n",
    "### Talk about some of the relationships you observed in this part of the investigation. Were there features that strengthened each other in terms of looking at your feature(s) of interest?\n",
    "\n",
    "> The final summarized all time-related date: day of the week, hour of the day, and age. The consistency between weekdays amongst the Millenial generation (1980-2000) is the most consistent, as well as nearly always the largest.\n",
    "\n",
    "### Were there any interesting or surprising interactions between features?\n",
    "\n",
    "> The first things that attracts attention in plot 14. is the earliest and latest age cohort: the majority of those born between 1920 and 1940 are subscribers, whereas the youngest generation mostly opt for a pay-per-use consumption. "
   ]
  },
  {
   "cell_type": "markdown",
   "metadata": {
    "toc-hr-collapsed": true
   },
   "source": [
    "# Conclusions\n",
    "> In conclusion, my analysis of the GoBike usage data revealed a strong correlation between age and usage, with young professionals being the primary target audience. Furthermore, I observed that the day of the week and hour of the day variables had a significant impact on usage patterns. Additionally, I found that while there is a high degree of similarity between the start and end stations, there is not a perfect correlation between the two. The variance in trip duration was also found to be high, although the interquartile range was relatively small. Based on these findings, I recommend that Ford, as the operator of the GoBike service, consider partnering with businesses and offering a package tailored towards young professionals in order to expand their GoBike business. The above findings are based on the data available and further research may be needed to validate my findings.\n"
   ]
  }
 ],
 "metadata": {
  "kernelspec": {
   "display_name": "Python 3 (ipykernel)",
   "language": "python",
   "name": "python3"
  },
  "language_info": {
   "codemirror_mode": {
    "name": "ipython",
    "version": 3
   },
   "file_extension": ".py",
   "mimetype": "text/x-python",
   "name": "python",
   "nbconvert_exporter": "python",
   "pygments_lexer": "ipython3",
   "version": "3.9.12"
  }
 },
 "nbformat": 4,
 "nbformat_minor": 4
}
